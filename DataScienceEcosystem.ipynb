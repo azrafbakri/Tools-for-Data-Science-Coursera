{
 "cells": [
  {
   "cell_type": "markdown",
   "id": "ae59ef7f-8bca-4630-abfd-297e5acb7a19",
   "metadata": {},
   "source": [
    "# Data Science Tool and Ecosystem"
   ]
  },
  {
   "cell_type": "markdown",
   "id": "eed473ba-1656-43e0-bad1-d6573b9301f9",
   "metadata": {},
   "source": [
    "In this notebook, Data Science Tools and Ecosystem are summarized."
   ]
  },
  {
   "cell_type": "markdown",
   "id": "2935fc65-33f6-4277-8f9b-a874013cf6e6",
   "metadata": {},
   "source": [
    "Some of the popular languages that Data Scientists use are:\n",
    "1. Python\n",
    "2. Julia\n",
    "3. Scala\n",
    "4. R Studio\n",
    "5. SQL"
   ]
  },
  {
   "cell_type": "markdown",
   "id": "48bcd07c-5fd3-473e-baa3-961d1d1aefad",
   "metadata": {
    "tags": []
   },
   "source": [
    "Some of the commonly used libraries used by Data Scientists include:\n",
    "1. Pandas\n",
    "2. Numpy\n",
    "3. Matplotlib\n",
    "4. Scikit-learn\n"
   ]
  },
  {
   "cell_type": "markdown",
   "id": "9f0f6dc7-e4ca-4454-9132-8cf6e6a70235",
   "metadata": {
    "tags": []
   },
   "source": [
    "|Data Science Tools|\n",
    "|-------------------|\n",
    "|Jupyter Notebook|\n",
    "|R Studios|\n",
    "|SQL|\n",
    "|Github|"
   ]
  },
  {
   "cell_type": "markdown",
   "id": "c6e2fc8e-210d-4ec1-9e72-e26f52e6d725",
   "metadata": {},
   "source": [
    "### Below are a few examples of evaluating arithmetic expressions in Python"
   ]
  },
  {
   "cell_type": "code",
   "execution_count": 4,
   "id": "ca69b012-eb32-40b5-957f-62cfac05465f",
   "metadata": {
    "tags": []
   },
   "outputs": [
    {
     "data": {
      "text/plain": [
       "17"
      ]
     },
     "execution_count": 4,
     "metadata": {},
     "output_type": "execute_result"
    }
   ],
   "source": [
    "# This a simple arithmetic expression to mutiply then add integers\n",
    "(3*4)+5\n"
   ]
  },
  {
   "cell_type": "code",
   "execution_count": 8,
   "id": "cf2bba9d-c8f5-4b32-b010-3e24af0410c4",
   "metadata": {
    "tags": []
   },
   "outputs": [
    {
     "data": {
      "text/plain": [
       "3.3333333333333335"
      ]
     },
     "execution_count": 8,
     "metadata": {},
     "output_type": "execute_result"
    }
   ],
   "source": [
    "# This will convert 200 minutes to hours by diving by 60\n",
    "200/60"
   ]
  },
  {
   "cell_type": "markdown",
   "id": "7ab412a2-4612-4e4b-8611-4f227b0bca60",
   "metadata": {},
   "source": [
    "**Objectives:**\n",
    "- List of Popular Language in Data Science\n",
    "- List of commonly used Libraries in Data Science\n",
    "- List of Data Science Tools\n",
    "- Arithmetic Operations in Python Language"
   ]
  },
  {
   "cell_type": "markdown",
   "id": "b44aa972-2abb-496c-be13-e588baa68d43",
   "metadata": {
    "tags": []
   },
   "source": [
    "## Author\n",
    "Azraf Bakri"
   ]
  },
  {
   "cell_type": "code",
   "execution_count": null,
   "id": "1cea13b3-9e98-4f1b-9055-9d2abd41878b",
   "metadata": {},
   "outputs": [],
   "source": []
  }
 ],
 "metadata": {
  "kernelspec": {
   "display_name": "Python",
   "language": "python",
   "name": "conda-env-python-py"
  },
  "language_info": {
   "codemirror_mode": {
    "name": "ipython",
    "version": 3
   },
   "file_extension": ".py",
   "mimetype": "text/x-python",
   "name": "python",
   "nbconvert_exporter": "python",
   "pygments_lexer": "ipython3",
   "version": "3.7.12"
  }
 },
 "nbformat": 4,
 "nbformat_minor": 5
}
